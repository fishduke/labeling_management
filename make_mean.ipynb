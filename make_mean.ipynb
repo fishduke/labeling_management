{
 "cells": [
  {
   "cell_type": "code",
   "execution_count": 1,
   "metadata": {},
   "outputs": [
    {
     "ename": "",
     "evalue": "",
     "output_type": "error",
     "traceback": [
      "\u001b[1;31mThe Kernel crashed while executing code in the the current cell or a previous cell. Please review the code in the cell(s) to identify a possible cause of the failure. Click <a href='https://aka.ms/vscodeJupyterKernelCrash'>here</a> for more info. View Jupyter <a href='command:jupyter.viewOutput'>log</a> for further details."
     ]
    }
   ],
   "source": [
    "#caffe_root='/workspace/MobileNet-YOLO/build/install/'\n",
    "caffe_root='/home/phj8498/caffe/'\n",
    "\n",
    "import sys\n",
    "sys.path.insert(0,'/home_sw1/phj8498/caffe/python')\n",
    "import caffe\n",
    "import numpy as np\n",
    "import cv2\n",
    "import os\n",
    "import glob\n",
    "\n",
    "# def findmean(layer):\n",
    "#     mean = net.params[layer][0].data[...]\n",
    "#     if not isinstance(mean, np.ndarray):\n",
    "#         mean = np.array(mean)\n",
    "#     size = mean.size\n",
    "#     mean_value = np.sum(mean) / size\n",
    "#     print(mean_value)\n",
    "\n",
    "# #net = caffe.Net('csp-p6_99.prototxt', 'csp-p6_99.caffemodel', caffe.TEST)\n",
    "# layers = ['layer286-conv',\n",
    "# 'layer290-conv',\n",
    "# 'layer294-conv',\n",
    "# 'layer298-conv'\n",
    "# ]\n",
    "# for i in range(len(layers)):\n",
    "#     findmean(layers[i])\n",
    "\n",
    "folder_path = '/dataset/Dataset_backup/Completion_dataset/basics_detector/6class/20190614/6class_608'\n",
    "folders = os.listdir(folder_path)\n",
    "\n",
    "images = []\n",
    "for folder in folders:\n",
    "    path = os.path.join(folder_path, folder)\n",
    "    images += [cv2.imread(filename) for filename in glob.glob(f'{path}/*.jpg')]\n",
    "    images += [cv2.imread(filename) for filename in glob.glob(f'{path}/*.png')]\n",
    "\n",
    "train_data = [cv2.cvtColor(img, cv2.COLOR_BGR2RGB) for img in train_data]\n",
    "\n",
    "mean = [np.mean(img[:, :, i]) for i in range(3)]\n",
    "\n",
    "with open('mean_data.txt', 'w') as f:\n",
    "    f.write(','.join([str(m) for m in mean]))\n",
    "\n"
   ]
  },
  {
   "cell_type": "code",
   "execution_count": 6,
   "metadata": {},
   "outputs": [],
   "source": [
    "import numpy as np\n",
    "import cv2\n",
    "import os\n",
    "import glob\n",
    "\n",
    "folder_path = '/dataset/Dataset_backup/Completion_dataset/basics_detector/6class/20190614/6class_608'\n",
    "folders = os.listdir(folder_path)\n",
    "mean_values = []  # 모든 폴더의 이미지 평균값을 저장할 리스트\n",
    "\n",
    "for folder in folders:\n",
    "    path = os.path.join(folder_path, folder)\n",
    "    image_files = glob.glob(f'{path}/*.jpg') + glob.glob(f'{path}/*.png')\n",
    "\n",
    "    for filename in image_files:\n",
    "        img = cv2.imread(filename)\n",
    "        img_rgb = cv2.cvtColor(img, cv2.COLOR_RGB2BGR)\n",
    "        \n",
    "        # 이미지 처리\n",
    "        mean = [np.mean(img_rgb[:, :, i]) for i in range(3)]\n",
    "        mean_values.append(mean)  # 평균값을 리스트에 추가\n",
    "\n",
    "        # 이미지 데이터 삭제\n",
    "        del img\n",
    "        del img_rgb\n",
    "\n",
    "# 리스트에 저장된 모든 이미지의 RGB 평균값을 평균냄\n",
    "total_mean = np.mean(mean_values, axis=0)\n",
    "\n",
    "# mean_data.txt 파일에 평균값 기록\n",
    "with open('mean_data2.txt', 'w') as f:\n",
    "    f.write(','.join([str(m) for m in total_mean]))"
   ]
  },
  {
   "cell_type": "code",
   "execution_count": 5,
   "metadata": {},
   "outputs": [],
   "source": [
    "import cv2\n",
    "import numpy as np\n",
    "\n",
    "img = cv2.imread('/dataset/Dataset_backup/Completion_dataset/basics_detector/6class/20190614/6class_608/car2/00000002.jpg')\n",
    "img = cv2.cvtColor(img, cv2.COLOR_BGR2RGB)\n",
    "\n",
    "mean = [np.mean(img[:, :, i]) for i in range(3)]\n",
    "\n",
    "with open('mean_data.txt', 'w') as f:\n",
    "    f.write(','.join([str(m) for m in mean]))"
   ]
  },
  {
   "cell_type": "code",
   "execution_count": null,
   "metadata": {},
   "outputs": [],
   "source": []
  }
 ],
 "metadata": {
  "kernelspec": {
   "display_name": "Python 3",
   "language": "python",
   "name": "python3"
  },
  "language_info": {
   "codemirror_mode": {
    "name": "ipython",
    "version": 3
   },
   "file_extension": ".py",
   "mimetype": "text/x-python",
   "name": "python",
   "nbconvert_exporter": "python",
   "pygments_lexer": "ipython3",
   "version": "3.8.18"
  },
  "orig_nbformat": 4
 },
 "nbformat": 4,
 "nbformat_minor": 2
}
