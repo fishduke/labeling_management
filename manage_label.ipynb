{
 "cells": [
  {
   "cell_type": "markdown",
   "metadata": {},
   "source": [
    "## extract specific classes with images"
   ]
  },
  {
   "cell_type": "code",
   "execution_count": 11,
   "metadata": {},
   "outputs": [
    {
     "name": "stdout",
     "output_type": "stream",
     "text": [
      "count: %d\n",
      " 2889\n",
      "error: %d\n",
      " 0\n"
     ]
    }
   ],
   "source": [
    "import numpy as np\n",
    "import cv2\n",
    "import os\n",
    "import glob\n",
    "\n",
    "folder = r\"D:/videos/bear/data/bear_images/gray\"\n",
    "# folders = os.listdir(folder_path)\n",
    "\n",
    "count = 0\n",
    "target_class = str('-')\n",
    "\n",
    "## if you want replace class number\n",
    "set_class = 2\n",
    "error = 0\n",
    "# for folder in folders:\n",
    "# path = os.path.join(folder_path, folder)\n",
    "image_files = glob.glob(f'{folder}/*.jpg') + glob.glob(f'{folder}/*.png')\n",
    "\n",
    "txt_list = []\n",
    "img_list = []\n",
    "for filename in image_files:\n",
    "    label = filename[:filename.rfind('.')] + '.txt'\n",
    "    # try:\n",
    "    f = open(label, 'r')\n",
    "    line = f.readlines()\n",
    "    last_count = count\n",
    "    if(len(line) > 0):\n",
    "        for i in line:\n",
    "            if(i[0] != target_class):\n",
    "                #break ##?\n",
    "                continue ##?\n",
    "        img_path = filename\n",
    "        txt_path = img_path[:img_path.find('.')] + '.txt'\n",
    "        # print(filename)\n",
    "        \n",
    "        img = cv2.imread(filename)\n",
    "        cv2.imwrite(img_path, img)\n",
    "        \n",
    "        for i in line:\n",
    "            if(i[0] == target_class):\n",
    "                count += 1\n",
    "                contents = str(set_class) + i[i.find(' '):]    \n",
    "                txt = open(txt_path, \"w\")\n",
    "                txt.write(contents) \n",
    "                txt.close()\n",
    "\n",
    "        nofound = 1\n",
    "        if(last_count==count):\n",
    "            nofound = 1\n",
    "        else:\n",
    "            nofound = 0\n",
    "        \n",
    "        if(nofound):\n",
    "            txt_list.append(txt_path)\n",
    "            img_list.append(img_path)\n",
    "    f.close()\n",
    "    # except:\n",
    "    #     error += 1\n",
    "\n",
    "# for i in range(len(txt_list)):\n",
    "#     os.remove(txt_list[i])\n",
    "#     try:\n",
    "#         os.remove(img_list[i])\n",
    "#     except:\n",
    "#         print(img_list[i])\n",
    "\n",
    "print(\"count: %d\\n\",count)\n",
    "print(\"error: %d\\n\",error)"
   ]
  },
  {
   "cell_type": "markdown",
   "metadata": {},
   "source": [
    "# 빈 txt 파일 생성"
   ]
  },
  {
   "cell_type": "code",
   "execution_count": 7,
   "metadata": {},
   "outputs": [],
   "source": [
    "import os\n",
    "\n",
    "def create_missing_txt_files(src_folder):\n",
    "    # 폴더 내 모든 파일 목록을 가져옵니다.\n",
    "    files = os.listdir(src_folder)\n",
    "    \n",
    "    # .jpg 파일을 순회하면서 동일한 이름의 .txt 파일이 있는지 확인합니다.\n",
    "    for file in files:\n",
    "        if file.endswith('.jpg'):\n",
    "            base_name = file[:-4]  # .jpg 확장자를 제외한 파일 이름\n",
    "            txt_file = base_name + '.txt'\n",
    "            txt_file_path = os.path.join(src_folder, txt_file)\n",
    "            if txt_file not in files:\n",
    "                try:\n",
    "                    # 동일한 이름의 빈 .txt 파일을 생성합니다.\n",
    "                    with open(txt_file_path, 'w') as f:\n",
    "                        pass\n",
    "                    # print(f\"{txt_file_path} 파일이 생성되었습니다.\")\n",
    "                except Exception as e:\n",
    "                    print(f\"{txt_file_path} 파일을 생성하는 중 오류가 발생했습니다: {e}\")\n",
    "\n",
    "# 사용 예시\n",
    "src_folder = \"D:/videos/bear/data/new/79/black\"\n",
    "create_missing_txt_files(src_folder)\n"
   ]
  },
  {
   "cell_type": "markdown",
   "metadata": {},
   "source": [
    "# 타겟 클래스 아이디 변경"
   ]
  },
  {
   "cell_type": "code",
   "execution_count": 6,
   "metadata": {},
   "outputs": [
    {
     "name": "stderr",
     "output_type": "stream",
     "text": [
      "Processing files: 100%|██████████| 14935/14935 [00:08<00:00, 1785.72it/s]"
     ]
    },
    {
     "name": "stdout",
     "output_type": "stream",
     "text": [
      "count: 0\n",
      "error: 0\n"
     ]
    },
    {
     "name": "stderr",
     "output_type": "stream",
     "text": [
      "\n"
     ]
    }
   ],
   "source": [
    "import os\n",
    "import glob\n",
    "from tqdm import tqdm\n",
    "\n",
    "folder_path = \"D:/videos/bear/test/test_1\"\n",
    "target_class = '-'\n",
    "set_class = '2'\n",
    "count = 0\n",
    "error = 0\n",
    "\n",
    "# Get the list of image files in the folder\n",
    "image_files = glob.glob(os.path.join(folder_path, '*.jpg'))\n",
    "\n",
    "# Process files with a progress bar\n",
    "with tqdm(total=len(image_files), desc=\"Processing files\") as pbar:\n",
    "    for filename in image_files:\n",
    "        label = filename[:filename.rfind('.')] + '.txt'\n",
    "        try:\n",
    "            with open(label, 'r') as f:\n",
    "                lines = f.readlines()\n",
    "\n",
    "            new_lines = []\n",
    "            for line in lines:\n",
    "                parts = line.strip().split()\n",
    "                if len(parts) == 5:\n",
    "                    class_id = parts[0]\n",
    "                    if class_id == target_class:\n",
    "                        parts[0] = set_class\n",
    "                        count += 1\n",
    "                    new_lines.append(' '.join(parts) + '\\n')\n",
    "                else:\n",
    "                    print(f\"Invalid line found and removed in {label}: {line.strip()}\")\n",
    "\n",
    "            with open(label, \"w\") as txt:\n",
    "                txt.writelines(new_lines)\n",
    "\n",
    "        except Exception as e:\n",
    "            error += 1\n",
    "            print(f\"Error processing file {filename}: {e}\")\n",
    "\n",
    "        pbar.update(1)\n",
    "\n",
    "print(f\"count: {count}\")\n",
    "print(f\"error: {error}\")\n"
   ]
  },
  {
   "cell_type": "markdown",
   "metadata": {},
   "source": [
    "# 라벨링 된 것들만 따로 이동 복사"
   ]
  },
  {
   "cell_type": "code",
   "execution_count": 9,
   "metadata": {},
   "outputs": [
    {
     "name": "stderr",
     "output_type": "stream",
     "text": [
      "Processing files: 86757it [02:14, 644.05it/s]                             \n"
     ]
    }
   ],
   "source": [
    "import os\n",
    "import shutil\n",
    "from tqdm import tqdm\n",
    "\n",
    "# 원본 경로와 목적지 경로 설정\n",
    "source_path = 'D:/videos/bear/data/new/79'\n",
    "destination_path = 'D:/videos/bear/data/new/gathered'\n",
    "\n",
    "# 원본 경로 내의 폴더 목록 가져오기\n",
    "folders = [os.path.join(source_path, folder) for folder in os.listdir(source_path) if os.path.isdir(os.path.join(source_path, folder))]\n",
    "\n",
    "# 모든 폴더 내의 파일 수 계산\n",
    "total_files = sum([len(files) for r, d, files in os.walk(source_path) if files])\n",
    "\n",
    "# 프로그래스 바 설정\n",
    "with tqdm(total=total_files, desc=\"Processing files\") as pbar:\n",
    "    # 각 폴더를 순회하며 파일 복사\n",
    "    for folder in folders:\n",
    "        folder_name = os.path.basename(folder)\n",
    "        for file in os.listdir(folder):\n",
    "            if file.endswith('.txt'):\n",
    "                txt_file_path = os.path.join(folder, file)\n",
    "                jpg_file_path = os.path.join(folder, file.replace('.txt', '.jpg'))\n",
    "                \n",
    "                # txt 파일이 비어있지 않은 경우\n",
    "                with open(txt_file_path, 'r') as txt_file:\n",
    "                    content = txt_file.read().strip()\n",
    "                    if content:\n",
    "                        # 파일 이름에 폴더 이름 추가하여 복사\n",
    "                        new_txt_file_name = f\"{os.path.splitext(file)[0]}_{folder_name}.txt\"\n",
    "                        new_jpg_file_name = f\"{os.path.splitext(file)[0]}_{folder_name}.jpg\"\n",
    "                        \n",
    "                        new_txt_file_path = os.path.join(destination_path, new_txt_file_name)\n",
    "                        new_jpg_file_path = os.path.join(destination_path, new_jpg_file_name)\n",
    "                        \n",
    "                        shutil.copy(txt_file_path, new_txt_file_path)\n",
    "                        shutil.copy(jpg_file_path, new_jpg_file_path)\n",
    "            # 파일 하나 처리 완료 후 프로그래스 바 업데이트\n",
    "            pbar.update(1)\n"
   ]
  },
  {
   "cell_type": "markdown",
   "metadata": {},
   "source": [
    "# jpg가 없는 라벨링 값 제거"
   ]
  },
  {
   "cell_type": "code",
   "execution_count": 4,
   "metadata": {},
   "outputs": [
    {
     "name": "stdout",
     "output_type": "stream",
     "text": [
      "D:/videos/bear/data/new/79/gray\\bear_00015 (60).txt 파일이 삭제되었습니다.\n",
      "D:/videos/bear/data/new/79/gray\\gettyimages-1425419282-640x640.txt 파일이 삭제되었습니다.\n"
     ]
    }
   ],
   "source": [
    "import os\n",
    "\n",
    "def delete_orphan_txt_files(src_folder):\n",
    "    # 폴더 내 모든 파일 목록을 가져옵니다.\n",
    "    files = os.listdir(src_folder)\n",
    "    \n",
    "    # 모든 .txt 파일을 순회하면서 동일한 이름의 .jpg 파일이 있는지 확인합니다.\n",
    "    for file in files:\n",
    "        if file.endswith('.txt'):\n",
    "            base_name = file[:-4]  # .txt 확장자를 제외한 파일 이름\n",
    "            jpg_file = base_name + '.jpg'\n",
    "            if jpg_file not in files:\n",
    "                file_path = os.path.join(src_folder, file)\n",
    "                try:\n",
    "                    os.remove(file_path)\n",
    "                    print(f\"{file_path} 파일이 삭제되었습니다.\")\n",
    "                except Exception as e:\n",
    "                    print(f\"{file_path} 파일을 삭제하는 중 오류가 발생했습니다: {e}\")\n",
    "\n",
    "# 사용 예시\n",
    "src_folder = 'D:/videos/bear/data/new/79/gray'\n",
    "delete_orphan_txt_files(src_folder)"
   ]
  },
  {
   "cell_type": "markdown",
   "metadata": {},
   "source": [
    "# 특정 클래스를 다른 폴더로 이동"
   ]
  },
  {
   "cell_type": "code",
   "execution_count": null,
   "metadata": {},
   "outputs": [],
   "source": [
    "import os\n",
    "import shutil\n",
    "\n",
    "def clean_and_delete_files(src_folder, dest_folder, target_class):\n",
    "    # Ensure destination folder exists\n",
    "    if not os.path.exists(dest_folder):\n",
    "        os.makedirs(dest_folder)\n",
    "\n",
    "    # Iterate over all files in the source folder\n",
    "    for file_name in os.listdir(src_folder):\n",
    "        if file_name.lower().endswith('.txt'):\n",
    "            txt_file_path = os.path.join(src_folder, file_name)\n",
    "            jpg_file_path = os.path.splitext(txt_file_path)[0] + '.jpg'\n",
    "            \n",
    "            if not os.path.exists(jpg_file_path):\n",
    "                continue\n",
    "\n",
    "            # Read and clean the txt file\n",
    "            with open(txt_file_path, 'r') as file:\n",
    "                lines = file.readlines()\n",
    "\n",
    "            valid_lines = []\n",
    "            has_class_id_3 = False\n",
    "            for line in lines:\n",
    "                parts = line.strip().split()\n",
    "                if len(parts) == 5:\n",
    "                    class_id = int(parts[0])\n",
    "                    if class_id == int(target_class):\n",
    "                        has_class_id_3 = True\n",
    "                    else:\n",
    "                        valid_lines.append(line)\n",
    "                else:\n",
    "                    print(f\"Invalid line found and removed in {file_name}: {line.strip()}\")\n",
    "\n",
    "            # Delete files if they contain class_id == target_class\n",
    "            if has_class_id_3:\n",
    "                os.remove(txt_file_path)\n",
    "                os.remove(jpg_file_path)\n",
    "                print(f\"Deleted {file_name} and corresponding jpg from {src_folder}\")\n",
    "            else:\n",
    "                # Otherwise, save the cleaned txt file\n",
    "                with open(txt_file_path, 'w') as file:\n",
    "                    file.writelines(valid_lines)\n",
    "\n",
    "# Example usage\n",
    "src_folder = r\"D:/videos/bear/data/bear_images/black\"\n",
    "dest_folder = r\"D:/videos/bear/data/bear_images/black/sep\"\n",
    "\n",
    "target_class = 3\n",
    "clean_and_delete_files(src_folder, dest_folder, target_class)\n"
   ]
  }
 ],
 "metadata": {
  "kernelspec": {
   "display_name": "Python 3 (ipykernel)",
   "language": "python",
   "name": "python3"
  },
  "language_info": {
   "codemirror_mode": {
    "name": "ipython",
    "version": 3
   },
   "file_extension": ".py",
   "mimetype": "text/x-python",
   "name": "python",
   "nbconvert_exporter": "python",
   "pygments_lexer": "ipython3",
   "version": "3.8.19"
  }
 },
 "nbformat": 4,
 "nbformat_minor": 2
}
