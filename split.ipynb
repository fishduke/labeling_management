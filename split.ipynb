{
 "cells": [
  {
   "cell_type": "code",
   "execution_count": 2,
   "metadata": {},
   "outputs": [],
   "source": [
    "#for shuffle\n",
    "import random\n",
    "\n",
    "txt = open('yolov3_base.txt','r')\n",
    "f = open('yolov3_split.txt','w')\n",
    "\n",
    "tmp = []\n",
    "\n",
    "while True :\n",
    "    line = txt.readline()\n",
    "    if not line:\n",
    "        break\n",
    "        \n",
    "    tmp.append(line)\n",
    "    \n",
    "random.shuffle(tmp)\n",
    "        \n",
    "for i in tmp :  \n",
    "    f.write(i)\n",
    "\n",
    "txt.close()\n",
    "f.close()"
   ]
  },
  {
   "cell_type": "code",
   "execution_count": 3,
   "metadata": {},
   "outputs": [],
   "source": [
    "#for create\n",
    "count = 0\n",
    "length = 5196 #total line\n",
    "\n",
    "txt = open('yolov3_split.txt','r')\n",
    "\n",
    "i = 0\n",
    "\n",
    "f = open('darknet/data/yolov3_train.txt','w')\n",
    "f2 = open('darknet/data/yolov3_valid.txt','w')\n",
    "\n",
    "while True :\n",
    "    if i == 0 :\n",
    "        line = txt.readline()\n",
    "        if not line :\n",
    "            break\n",
    "        count +=1\n",
    "        if count < int(length/10)*1 :\n",
    "            f2.write(line)\n",
    "        else :\n",
    "            f.write(line)\n",
    "\n",
    "txt.close()\n",
    "f.close()\n",
    "f2.close()"
   ]
  },
  {
   "cell_type": "code",
   "execution_count": null,
   "metadata": {},
   "outputs": [],
   "source": []
  }
 ],
 "metadata": {
  "kernelspec": {
   "display_name": "prune",
   "language": "python",
   "name": "python3"
  },
  "language_info": {
   "codemirror_mode": {
    "name": "ipython",
    "version": 3
   },
   "file_extension": ".py",
   "mimetype": "text/x-python",
   "name": "python",
   "nbconvert_exporter": "python",
   "pygments_lexer": "ipython3",
   "version": "3.8.18"
  },
  "orig_nbformat": 4
 },
 "nbformat": 4,
 "nbformat_minor": 2
}
