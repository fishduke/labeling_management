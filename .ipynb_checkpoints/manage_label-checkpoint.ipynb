{
 "cells": [
  {
   "cell_type": "markdown",
   "metadata": {},
   "source": [
    "## extract specific classes with images"
   ]
  },
  {
   "cell_type": "code",
   "execution_count": 1,
   "metadata": {},
   "outputs": [
    {
     "ename": "ModuleNotFoundError",
     "evalue": "No module named 'cv2'",
     "output_type": "error",
     "traceback": [
      "\u001b[1;31m---------------------------------------------------------------------------\u001b[0m",
      "\u001b[1;31mModuleNotFoundError\u001b[0m                       Traceback (most recent call last)",
      "Cell \u001b[1;32mIn[1], line 2\u001b[0m\n\u001b[0;32m      1\u001b[0m \u001b[38;5;28;01mimport\u001b[39;00m \u001b[38;5;21;01mnumpy\u001b[39;00m \u001b[38;5;28;01mas\u001b[39;00m \u001b[38;5;21;01mnp\u001b[39;00m\n\u001b[1;32m----> 2\u001b[0m \u001b[38;5;28;01mimport\u001b[39;00m \u001b[38;5;21;01mcv2\u001b[39;00m\n\u001b[0;32m      3\u001b[0m \u001b[38;5;28;01mimport\u001b[39;00m \u001b[38;5;21;01mos\u001b[39;00m\n\u001b[0;32m      4\u001b[0m \u001b[38;5;28;01mimport\u001b[39;00m \u001b[38;5;21;01mglob\u001b[39;00m\n",
      "\u001b[1;31mModuleNotFoundError\u001b[0m: No module named 'cv2'"
     ]
    }
   ],
   "source": [
    "import numpy as np\n",
    "import cv2\n",
    "import os\n",
    "import glob\n",
    "\n",
    "folder_path = ''\n",
    "folders = os.listdir(folder_path)\n",
    "\n",
    "count = 0\n",
    "count2 = 0\n",
    "count3 = 0\n",
    "target_class = '0'\n",
    "target_class2 = '1'\n",
    "target_class3 = '2'\n",
    "limit = 0\n",
    "error = 0\n",
    "for folder in folders:\n",
    "    path = os.path.join(folder_path, folder)\n",
    "    image_files = glob.glob(f'{path}/*.jpg') + glob.glob(f'{path}/*.png')\n",
    "    for filename in image_files:\n",
    "        label = filename[:filename.rfind('.')] + '.txt'\n",
    "        try:\n",
    "            f = open(label, 'r')\n",
    "            line = f.readlines()\n",
    "            last_count = count\n",
    "            last_count2 = count2\n",
    "            last_count3 = count3\n",
    "            if(len(line) > 1):\n",
    "                for i in line:\n",
    "                    if(i[0] != target_class):\n",
    "                        #break ##?\n",
    "                        continue ##?\n",
    "                    \n",
    "                img_path = path[:path.find('2021_11_03')]+'2024_02_06/person/' + filename[filename.rfind('/')+1:]\n",
    "                txt_path = img_path[:img_path.find('.')] + '.txt'\n",
    "                txt = open(txt_path, \"w\")\n",
    "                \n",
    "                img = cv2.imread(filename)\n",
    "                cv2.imwrite(img_path, img)\n",
    "                \n",
    "                for i in line:\n",
    "                    if(i[0] == target_class):\n",
    "                        count += 1        \n",
    "                        txt.write(target_class+i[i.find(' '):]) ## if you want replace class number\n",
    "                    elif(i[0] == target_class2):\n",
    "                        count2 += 1\n",
    "                        txt.write(target_class2+i[i.find(' '):])\n",
    "                    elif(i[0] == target_class3):\n",
    "                        count3 += 1\n",
    "                        txt.write(target_class3+i[i.find(' '):])\n",
    "\n",
    "                nofound = 1\n",
    "                if(last_count==count):\n",
    "                    nofound = 1\n",
    "                elif(last_count2==count2):\n",
    "                    nofound = 1\n",
    "                elif(last_count3==count3):\n",
    "                    nofound = 1\n",
    "                else:\n",
    "                    nofound = 0\n",
    "                \n",
    "                if(nofound):\n",
    "                    os.remove(txt_path)\n",
    "                    os.remove(img_path)\n",
    "                    \n",
    "                txt.close()\n",
    "            f.close()\n",
    "        except:\n",
    "            error += 1\n",
    "    #     limit += 1\n",
    "    #     if(limit == 10000):\n",
    "    #         break\n",
    "    # break\n",
    "\n",
    "print(\"count: %d\\n\",count)\n",
    "print(\"count2: %d\\n\",count2)\n",
    "print(\"count3: %d\\n\",count3)\n",
    "print(\"error: %d\\n\",error)"
   ]
  },
  {
   "cell_type": "markdown",
   "metadata": {},
   "source": []
  },
  {
   "cell_type": "code",
   "execution_count": null,
   "metadata": {},
   "outputs": [],
   "source": []
  }
 ],
 "metadata": {
  "kernelspec": {
   "display_name": "Python 3 (ipykernel)",
   "language": "python",
   "name": "python3"
  },
  "language_info": {
   "codemirror_mode": {
    "name": "ipython",
    "version": 3
   },
   "file_extension": ".py",
   "mimetype": "text/x-python",
   "name": "python",
   "nbconvert_exporter": "python",
   "pygments_lexer": "ipython3",
   "version": "3.11.5"
  }
 },
 "nbformat": 4,
 "nbformat_minor": 2
}
