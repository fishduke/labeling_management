{
 "cells": [
  {
   "cell_type": "code",
   "execution_count": 1,
   "metadata": {},
   "outputs": [
    {
     "ename": "ModuleNotFoundError",
     "evalue": "No module named 'caffe'",
     "output_type": "error",
     "traceback": [
      "\u001b[1;31m---------------------------------------------------------------------------\u001b[0m",
      "\u001b[1;31mModuleNotFoundError\u001b[0m                       Traceback (most recent call last)",
      "Cell \u001b[1;32mIn[1], line 6\u001b[0m\n\u001b[0;32m      4\u001b[0m \u001b[38;5;28;01mimport\u001b[39;00m \u001b[38;5;21;01msys\u001b[39;00m\n\u001b[0;32m      5\u001b[0m sys\u001b[38;5;241m.\u001b[39mpath\u001b[38;5;241m.\u001b[39minsert(\u001b[38;5;241m0\u001b[39m,\u001b[38;5;124m'\u001b[39m\u001b[38;5;124m'\u001b[39m)\n\u001b[1;32m----> 6\u001b[0m \u001b[38;5;28;01mimport\u001b[39;00m \u001b[38;5;21;01mcaffe\u001b[39;00m\n\u001b[0;32m      7\u001b[0m \u001b[38;5;28;01mimport\u001b[39;00m \u001b[38;5;21;01mnumpy\u001b[39;00m \u001b[38;5;28;01mas\u001b[39;00m \u001b[38;5;21;01mnp\u001b[39;00m\n\u001b[0;32m      8\u001b[0m \u001b[38;5;28;01mimport\u001b[39;00m \u001b[38;5;21;01mcv2\u001b[39;00m\n",
      "\u001b[1;31mModuleNotFoundError\u001b[0m: No module named 'caffe'"
     ]
    }
   ],
   "source": [
    "#caffe_root=''\n",
    "caffe_root=''\n",
    "\n",
    "import sys\n",
    "sys.path.insert(0,'')\n",
    "import caffe\n",
    "import numpy as np\n",
    "import cv2\n",
    "import os\n",
    "import glob\n",
    "\n",
    "# def findmean(layer):\n",
    "#     mean = net.params[layer][0].data[...]\n",
    "#     if not isinstance(mean, np.ndarray):\n",
    "#         mean = np.array(mean)\n",
    "#     size = mean.size\n",
    "#     mean_value = np.sum(mean) / size\n",
    "#     print(mean_value)\n",
    "\n",
    "# #net = caffe.Net('csp-p6_99.prototxt', 'csp-p6_99.caffemodel', caffe.TEST)\n",
    "# layers = ['layer286-conv',\n",
    "# 'layer290-conv',\n",
    "# 'layer294-conv',\n",
    "# 'layer298-conv'\n",
    "# ]\n",
    "# for i in range(len(layers)):\n",
    "#     findmean(layers[i])\n",
    "\n",
    "folder_path = ''\n",
    "folders = os.listdir(folder_path)\n",
    "\n",
    "images = []\n",
    "for folder in folders:\n",
    "    path = os.path.join(folder_path, folder)\n",
    "    images += [cv2.imread(filename) for filename in glob.glob(f'{path}/*.jpg')]\n",
    "    images += [cv2.imread(filename) for filename in glob.glob(f'{path}/*.png')]\n",
    "\n",
    "train_data = [cv2.cvtColor(img, cv2.COLOR_BGR2RGB) for img in train_data]\n",
    "\n",
    "mean = [np.mean(img[:, :, i]) for i in range(3)]\n",
    "\n",
    "with open('mean_data.txt', 'w') as f:\n",
    "    f.write(','.join([str(m) for m in mean]))\n",
    "\n"
   ]
  },
  {
   "cell_type": "code",
   "execution_count": 2,
   "metadata": {},
   "outputs": [
    {
     "ename": "ModuleNotFoundError",
     "evalue": "No module named 'cv2'",
     "output_type": "error",
     "traceback": [
      "\u001b[1;31m---------------------------------------------------------------------------\u001b[0m",
      "\u001b[1;31mModuleNotFoundError\u001b[0m                       Traceback (most recent call last)",
      "Cell \u001b[1;32mIn[2], line 2\u001b[0m\n\u001b[0;32m      1\u001b[0m \u001b[38;5;28;01mimport\u001b[39;00m \u001b[38;5;21;01mnumpy\u001b[39;00m \u001b[38;5;28;01mas\u001b[39;00m \u001b[38;5;21;01mnp\u001b[39;00m\n\u001b[1;32m----> 2\u001b[0m \u001b[38;5;28;01mimport\u001b[39;00m \u001b[38;5;21;01mcv2\u001b[39;00m\n\u001b[0;32m      3\u001b[0m \u001b[38;5;28;01mimport\u001b[39;00m \u001b[38;5;21;01mos\u001b[39;00m\n\u001b[0;32m      4\u001b[0m \u001b[38;5;28;01mimport\u001b[39;00m \u001b[38;5;21;01mglob\u001b[39;00m\n",
      "\u001b[1;31mModuleNotFoundError\u001b[0m: No module named 'cv2'"
     ]
    }
   ],
   "source": [
    "import numpy as np\n",
    "import cv2\n",
    "import os\n",
    "import glob\n",
    "\n",
    "folder_path = ''\n",
    "folders = os.listdir(folder_path)\n",
    "mean_values = []  # 모든 폴더의 이미지 평균값을 저장할 리스트\n",
    "\n",
    "for folder in folders:\n",
    "    path = os.path.join(folder_path, folder)\n",
    "    image_files = glob.glob(f'{path}/*.jpg') + glob.glob(f'{path}/*.png')\n",
    "\n",
    "    for filename in image_files:\n",
    "        img = cv2.imread(filename)\n",
    "        img_rgb = cv2.cvtColor(img, cv2.COLOR_RGB2BGR)\n",
    "        \n",
    "        # 이미지 처리\n",
    "        mean = [np.mean(img_rgb[:, :, i]) for i in range(3)]\n",
    "        mean_values.append(mean)  # 평균값을 리스트에 추가\n",
    "\n",
    "        # 이미지 데이터 삭제\n",
    "        del img\n",
    "        del img_rgb\n",
    "\n",
    "# 리스트에 저장된 모든 이미지의 RGB 평균값을 평균냄\n",
    "total_mean = np.mean(mean_values, axis=0)\n",
    "\n",
    "# mean_data.txt 파일에 평균값 기록\n",
    "with open('mean_data2.txt', 'w') as f:\n",
    "    f.write(','.join([str(m) for m in total_mean]))"
   ]
  },
  {
   "cell_type": "code",
   "execution_count": 3,
   "metadata": {},
   "outputs": [
    {
     "ename": "ModuleNotFoundError",
     "evalue": "No module named 'cv2'",
     "output_type": "error",
     "traceback": [
      "\u001b[1;31m---------------------------------------------------------------------------\u001b[0m",
      "\u001b[1;31mModuleNotFoundError\u001b[0m                       Traceback (most recent call last)",
      "Cell \u001b[1;32mIn[3], line 1\u001b[0m\n\u001b[1;32m----> 1\u001b[0m \u001b[38;5;28;01mimport\u001b[39;00m \u001b[38;5;21;01mcv2\u001b[39;00m\n\u001b[0;32m      2\u001b[0m \u001b[38;5;28;01mimport\u001b[39;00m \u001b[38;5;21;01mnumpy\u001b[39;00m \u001b[38;5;28;01mas\u001b[39;00m \u001b[38;5;21;01mnp\u001b[39;00m\n\u001b[0;32m      4\u001b[0m img \u001b[38;5;241m=\u001b[39m cv2\u001b[38;5;241m.\u001b[39mimread(\u001b[38;5;124m'\u001b[39m\u001b[38;5;124m'\u001b[39m)\n",
      "\u001b[1;31mModuleNotFoundError\u001b[0m: No module named 'cv2'"
     ]
    }
   ],
   "source": [
    "import cv2\n",
    "import numpy as np\n",
    "\n",
    "img = cv2.imread('')\n",
    "img = cv2.cvtColor(img, cv2.COLOR_BGR2RGB)\n",
    "\n",
    "mean = [np.mean(img[:, :, i]) for i in range(3)]\n",
    "\n",
    "with open('mean_data.txt', 'w') as f:\n",
    "    f.write(','.join([str(m) for m in mean]))"
   ]
  },
  {
   "cell_type": "code",
   "execution_count": null,
   "metadata": {},
   "outputs": [],
   "source": []
  }
 ],
 "metadata": {
  "kernelspec": {
   "display_name": "Python 3 (ipykernel)",
   "language": "python",
   "name": "python3"
  },
  "language_info": {
   "codemirror_mode": {
    "name": "ipython",
    "version": 3
   },
   "file_extension": ".py",
   "mimetype": "text/x-python",
   "name": "python",
   "nbconvert_exporter": "python",
   "pygments_lexer": "ipython3",
   "version": "3.11.5"
  }
 },
 "nbformat": 4,
 "nbformat_minor": 2
}
