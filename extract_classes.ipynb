{
 "cells": [
  {
   "cell_type": "markdown",
   "metadata": {},
   "source": [
    "## extract specific classes with images"
   ]
  },
  {
   "cell_type": "code",
   "execution_count": 1,
   "metadata": {},
   "outputs": [
    {
     "name": "stdout",
     "output_type": "stream",
     "text": [
      "count: %d\n",
      " 779745\n",
      "count: %d\n",
      " 127331\n",
      "count: %d\n",
      " 469712\n",
      "error: %d\n",
      " 0\n"
     ]
    }
   ],
   "source": [
    "import numpy as np\n",
    "import cv2\n",
    "import os\n",
    "import glob\n",
    "\n",
    "folder_path = '/dataset/Dataset_backup/Completion_dataset/basics_detector/5class/2021_11_03'\n",
    "folders = os.listdir(folder_path)\n",
    "\n",
    "count = 0\n",
    "count2 = 0\n",
    "count3 = 0\n",
    "target_class = '0'\n",
    "target_class2 = '1'\n",
    "target_class3 = '2'\n",
    "limit = 0\n",
    "error = 0\n",
    "for folder in folders:\n",
    "    path = os.path.join(folder_path, folder)\n",
    "    image_files = glob.glob(f'{path}/*.jpg') + glob.glob(f'{path}/*.png')\n",
    "    for filename in image_files:\n",
    "        label = filename[:filename.rfind('.')] + '.txt'\n",
    "        try:\n",
    "            f = open(label, 'r')\n",
    "            line = f.readlines()\n",
    "            last_count = count\n",
    "            last_count2 = count2\n",
    "            last_count3 = count3\n",
    "            if(len(line) > 1):\n",
    "                for i in line:\n",
    "                    if(i[0] != target_class):\n",
    "                        #break ##?\n",
    "                        continue ##?\n",
    "                    \n",
    "                img_path = path[:path.find('2021_11_03')]+'2024_02_06/person/' + filename[filename.rfind('/')+1:]\n",
    "                txt_path = img_path[:img_path.find('.')] + '.txt'\n",
    "                txt = open(txt_path, \"w\")\n",
    "                \n",
    "                img = cv2.imread(filename)\n",
    "                cv2.imwrite(img_path, img)\n",
    "                \n",
    "                for i in line:\n",
    "                    if(i[0] == target_class):\n",
    "                        count += 1        \n",
    "                        txt.write(target_class+i[i.find(' '):]) ## if you want replace class number\n",
    "                    elif(i[0] == target_class2):\n",
    "                        count2 += 1\n",
    "                        txt.write(target_class2+i[i.find(' '):])\n",
    "                    elif(i[0] == target_class3):\n",
    "                        count3 += 1\n",
    "                        txt.write(target_class3+i[i.find(' '):])\n",
    "\n",
    "                nofound = 1\n",
    "                if(last_count==count):\n",
    "                    nofound = 1\n",
    "                elif(last_count2==count2):\n",
    "                    nofound = 1\n",
    "                elif(last_count3==count3):\n",
    "                    nofound = 1\n",
    "                else:\n",
    "                    nofound = 0\n",
    "                \n",
    "                if(nofound):\n",
    "                    os.remove(txt_path)\n",
    "                    os.remove(img_path)\n",
    "                    \n",
    "                txt.close()\n",
    "            f.close()\n",
    "        except:\n",
    "            error += 1\n",
    "    #     limit += 1\n",
    "    #     if(limit == 10000):\n",
    "    #         break\n",
    "    # break\n",
    "\n",
    "print(\"count: %d\\n\",count)\n",
    "print(\"count2: %d\\n\",count2)\n",
    "print(\"count3: %d\\n\",count3)\n",
    "print(\"error: %d\\n\",error)"
   ]
  },
  {
   "cell_type": "markdown",
   "metadata": {},
   "source": []
  },
  {
   "cell_type": "code",
   "execution_count": null,
   "metadata": {},
   "outputs": [],
   "source": []
  }
 ],
 "metadata": {
  "kernelspec": {
   "display_name": "test",
   "language": "python",
   "name": "python3"
  },
  "language_info": {
   "codemirror_mode": {
    "name": "ipython",
    "version": 3
   },
   "file_extension": ".py",
   "mimetype": "text/x-python",
   "name": "python",
   "nbconvert_exporter": "python",
   "pygments_lexer": "ipython3",
   "version": "3.8.18"
  }
 },
 "nbformat": 4,
 "nbformat_minor": 2
}
